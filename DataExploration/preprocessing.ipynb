{
 "cells": [
  {
   "cell_type": "code",
   "execution_count": 635,
   "metadata": {},
   "outputs": [],
   "source": [
    "import pandas as pd\n",
    "import numpy as np\n",
    "import warnings\n",
    "from sklearn.preprocessing import LabelEncoder, OneHotEncoder\n",
    "from sklearn.preprocessing import MinMaxScaler, StandardScaler, Normalizer"
   ]
  },
  {
   "cell_type": "code",
   "execution_count": 636,
   "metadata": {},
   "outputs": [],
   "source": [
    "warnings.filterwarnings(\"ignore\")"
   ]
  },
  {
   "cell_type": "code",
   "execution_count": 637,
   "metadata": {},
   "outputs": [],
   "source": [
    "df = pd.read_csv('../data/classifier/processed/df.csv', sep = ';', encoding = 'iso-8859-1')"
   ]
  },
  {
   "cell_type": "code",
   "execution_count": 638,
   "metadata": {},
   "outputs": [
    {
     "data": {
      "text/html": [
       "<div>\n",
       "<style scoped>\n",
       "    .dataframe tbody tr th:only-of-type {\n",
       "        vertical-align: middle;\n",
       "    }\n",
       "\n",
       "    .dataframe tbody tr th {\n",
       "        vertical-align: top;\n",
       "    }\n",
       "\n",
       "    .dataframe thead th {\n",
       "        text-align: right;\n",
       "    }\n",
       "</style>\n",
       "<table border=\"1\" class=\"dataframe\">\n",
       "  <thead>\n",
       "    <tr style=\"text-align: right;\">\n",
       "      <th></th>\n",
       "      <th>Age</th>\n",
       "      <th>Sex</th>\n",
       "      <th>ChestPainType</th>\n",
       "      <th>RestingBP</th>\n",
       "      <th>Cholesterol</th>\n",
       "      <th>FastingBS</th>\n",
       "      <th>RestingECG</th>\n",
       "      <th>MaxHR</th>\n",
       "      <th>ExerciseAngina</th>\n",
       "      <th>Oldpeak</th>\n",
       "      <th>ST_Slope</th>\n",
       "      <th>HeartDisease</th>\n",
       "      <th>Race</th>\n",
       "      <th>Height</th>\n",
       "      <th>Weight</th>\n",
       "    </tr>\n",
       "  </thead>\n",
       "  <tbody>\n",
       "    <tr>\n",
       "      <th>0</th>\n",
       "      <td>40.0</td>\n",
       "      <td>M</td>\n",
       "      <td>ATA</td>\n",
       "      <td>140.0</td>\n",
       "      <td>289.0</td>\n",
       "      <td>0</td>\n",
       "      <td>Normal</td>\n",
       "      <td>172.0</td>\n",
       "      <td>N</td>\n",
       "      <td>0.0</td>\n",
       "      <td>Up</td>\n",
       "      <td>1</td>\n",
       "      <td>White</td>\n",
       "      <td>180.233238</td>\n",
       "      <td>100.825018</td>\n",
       "    </tr>\n",
       "    <tr>\n",
       "      <th>1</th>\n",
       "      <td>49.0</td>\n",
       "      <td>F</td>\n",
       "      <td>NAP</td>\n",
       "      <td>160.0</td>\n",
       "      <td>180.0</td>\n",
       "      <td>0</td>\n",
       "      <td>Normal</td>\n",
       "      <td>156.0</td>\n",
       "      <td>N</td>\n",
       "      <td>1.0</td>\n",
       "      <td>Flat</td>\n",
       "      <td>0</td>\n",
       "      <td>White</td>\n",
       "      <td>173.975042</td>\n",
       "      <td>63.384922</td>\n",
       "    </tr>\n",
       "    <tr>\n",
       "      <th>2</th>\n",
       "      <td>37.0</td>\n",
       "      <td>M</td>\n",
       "      <td>ATA</td>\n",
       "      <td>130.0</td>\n",
       "      <td>283.0</td>\n",
       "      <td>0</td>\n",
       "      <td>ST</td>\n",
       "      <td>98.0</td>\n",
       "      <td>N</td>\n",
       "      <td>0.0</td>\n",
       "      <td>Up</td>\n",
       "      <td>1</td>\n",
       "      <td>Hispanic</td>\n",
       "      <td>171.904901</td>\n",
       "      <td>83.027778</td>\n",
       "    </tr>\n",
       "    <tr>\n",
       "      <th>3</th>\n",
       "      <td>48.0</td>\n",
       "      <td>F</td>\n",
       "      <td>ASY</td>\n",
       "      <td>138.0</td>\n",
       "      <td>214.0</td>\n",
       "      <td>0</td>\n",
       "      <td>Normal</td>\n",
       "      <td>108.0</td>\n",
       "      <td>Y</td>\n",
       "      <td>1.5</td>\n",
       "      <td>Flat</td>\n",
       "      <td>1</td>\n",
       "      <td>White</td>\n",
       "      <td>160.074206</td>\n",
       "      <td>66.458538</td>\n",
       "    </tr>\n",
       "    <tr>\n",
       "      <th>4</th>\n",
       "      <td>54.0</td>\n",
       "      <td>M</td>\n",
       "      <td>NAP</td>\n",
       "      <td>150.0</td>\n",
       "      <td>195.0</td>\n",
       "      <td>0</td>\n",
       "      <td>Normal</td>\n",
       "      <td>122.0</td>\n",
       "      <td>N</td>\n",
       "      <td>0.0</td>\n",
       "      <td>Up</td>\n",
       "      <td>0</td>\n",
       "      <td>White</td>\n",
       "      <td>177.775159</td>\n",
       "      <td>84.033176</td>\n",
       "    </tr>\n",
       "  </tbody>\n",
       "</table>\n",
       "</div>"
      ],
      "text/plain": [
       "    Age Sex ChestPainType  RestingBP  Cholesterol  FastingBS RestingECG  \\\n",
       "0  40.0   M           ATA      140.0        289.0          0     Normal   \n",
       "1  49.0   F           NAP      160.0        180.0          0     Normal   \n",
       "2  37.0   M           ATA      130.0        283.0          0         ST   \n",
       "3  48.0   F           ASY      138.0        214.0          0     Normal   \n",
       "4  54.0   M           NAP      150.0        195.0          0     Normal   \n",
       "\n",
       "   MaxHR ExerciseAngina  Oldpeak ST_Slope  HeartDisease      Race      Height  \\\n",
       "0  172.0              N      0.0       Up             1     White  180.233238   \n",
       "1  156.0              N      1.0     Flat             0     White  173.975042   \n",
       "2   98.0              N      0.0       Up             1  Hispanic  171.904901   \n",
       "3  108.0              Y      1.5     Flat             1     White  160.074206   \n",
       "4  122.0              N      0.0       Up             0     White  177.775159   \n",
       "\n",
       "       Weight  \n",
       "0  100.825018  \n",
       "1   63.384922  \n",
       "2   83.027778  \n",
       "3   66.458538  \n",
       "4   84.033176  "
      ]
     },
     "execution_count": 638,
     "metadata": {},
     "output_type": "execute_result"
    }
   ],
   "source": [
    "df.head()"
   ]
  },
  {
   "cell_type": "markdown",
   "metadata": {},
   "source": [
    "<span style=\"font-family: Georgia, serif;\">\n",
    "\n",
    "# Preprocessing\n",
    "</span>"
   ]
  },
  {
   "cell_type": "markdown",
   "metadata": {},
   "source": [
    "<span style=\"font-family: Georgia, serif; font-weight: 100; letter-spacing: 0.8px;\">\n",
    "\n",
    "## Encoders\n",
    "</span>"
   ]
  },
  {
   "cell_type": "markdown",
   "metadata": {},
   "source": [
    "<span style=\"font-family: Georgia, serif; font-weight: 100; letter-spacing: 0.8px;\">\n",
    "\n",
    "### Manual\n",
    "</span>"
   ]
  },
  {
   "cell_type": "code",
   "execution_count": 639,
   "metadata": {},
   "outputs": [],
   "source": [
    "def manual_encoder(df):\n",
    "    df['Sex'] = df['Sex'].map({'M': 0, 'F': 1})\n",
    "    df['ChestPainType'] = df['ChestPainType'].map({'ASY': 3, 'NAP': 2, 'ATA': 1, 'TA': 0})\n",
    "    df['RestingECG'] = df['RestingECG'].map({'Normal': 0, 'ST': 1, 'LVH': 2})\n",
    "    df['ExerciseAngina'] = df['ExerciseAngina'].map({'N': 0, 'Y': 1})\n",
    "    df['ST_Slope'] = df['ST_Slope'].map({'Up': 0, 'Flat': 1, 'Down': 2})\n",
    "    df['Race'] = df['Race'].map({'White': 0, 'Hispanic': 1, 'Black': 2, 'Asian': 3, 'Other': 4})\n",
    "    return df"
   ]
  },
  {
   "cell_type": "code",
   "execution_count": 640,
   "metadata": {},
   "outputs": [],
   "source": [
    "df2 = df.copy()\n",
    "df2 = manual_encoder(df2)"
   ]
  },
  {
   "cell_type": "code",
   "execution_count": 641,
   "metadata": {},
   "outputs": [
    {
     "data": {
      "text/html": [
       "<div>\n",
       "<style scoped>\n",
       "    .dataframe tbody tr th:only-of-type {\n",
       "        vertical-align: middle;\n",
       "    }\n",
       "\n",
       "    .dataframe tbody tr th {\n",
       "        vertical-align: top;\n",
       "    }\n",
       "\n",
       "    .dataframe thead th {\n",
       "        text-align: right;\n",
       "    }\n",
       "</style>\n",
       "<table border=\"1\" class=\"dataframe\">\n",
       "  <thead>\n",
       "    <tr style=\"text-align: right;\">\n",
       "      <th></th>\n",
       "      <th>Age</th>\n",
       "      <th>Sex</th>\n",
       "      <th>ChestPainType</th>\n",
       "      <th>RestingBP</th>\n",
       "      <th>Cholesterol</th>\n",
       "      <th>FastingBS</th>\n",
       "      <th>RestingECG</th>\n",
       "      <th>MaxHR</th>\n",
       "      <th>ExerciseAngina</th>\n",
       "      <th>Oldpeak</th>\n",
       "      <th>ST_Slope</th>\n",
       "      <th>HeartDisease</th>\n",
       "      <th>Race</th>\n",
       "      <th>Height</th>\n",
       "      <th>Weight</th>\n",
       "    </tr>\n",
       "  </thead>\n",
       "  <tbody>\n",
       "    <tr>\n",
       "      <th>0</th>\n",
       "      <td>40.0</td>\n",
       "      <td>0</td>\n",
       "      <td>1</td>\n",
       "      <td>140.0</td>\n",
       "      <td>289.0</td>\n",
       "      <td>0</td>\n",
       "      <td>0</td>\n",
       "      <td>172.0</td>\n",
       "      <td>0</td>\n",
       "      <td>0.0</td>\n",
       "      <td>0</td>\n",
       "      <td>1</td>\n",
       "      <td>0</td>\n",
       "      <td>180.233238</td>\n",
       "      <td>100.825018</td>\n",
       "    </tr>\n",
       "    <tr>\n",
       "      <th>1</th>\n",
       "      <td>49.0</td>\n",
       "      <td>1</td>\n",
       "      <td>2</td>\n",
       "      <td>160.0</td>\n",
       "      <td>180.0</td>\n",
       "      <td>0</td>\n",
       "      <td>0</td>\n",
       "      <td>156.0</td>\n",
       "      <td>0</td>\n",
       "      <td>1.0</td>\n",
       "      <td>1</td>\n",
       "      <td>0</td>\n",
       "      <td>0</td>\n",
       "      <td>173.975042</td>\n",
       "      <td>63.384922</td>\n",
       "    </tr>\n",
       "  </tbody>\n",
       "</table>\n",
       "</div>"
      ],
      "text/plain": [
       "    Age  Sex  ChestPainType  RestingBP  Cholesterol  FastingBS  RestingECG  \\\n",
       "0  40.0    0              1      140.0        289.0          0           0   \n",
       "1  49.0    1              2      160.0        180.0          0           0   \n",
       "\n",
       "   MaxHR  ExerciseAngina  Oldpeak  ST_Slope  HeartDisease  Race      Height  \\\n",
       "0  172.0               0      0.0         0             1     0  180.233238   \n",
       "1  156.0               0      1.0         1             0     0  173.975042   \n",
       "\n",
       "       Weight  \n",
       "0  100.825018  \n",
       "1   63.384922  "
      ]
     },
     "execution_count": 641,
     "metadata": {},
     "output_type": "execute_result"
    }
   ],
   "source": [
    "df2.head(2)"
   ]
  },
  {
   "cell_type": "markdown",
   "metadata": {},
   "source": [
    "<span style=\"font-family: Georgia, serif; font-weight: 100; letter-spacing: 0.8px;\">\n",
    "\n",
    "### LabelEncoder\n",
    "</span>"
   ]
  },
  {
   "cell_type": "code",
   "execution_count": 642,
   "metadata": {},
   "outputs": [],
   "source": [
    "def label_encoder(df, columns):\n",
    "    le = LabelEncoder()\n",
    "    for col in columns:\n",
    "        df[col] = le.fit_transform(df[col])\n",
    "    return df\n",
    "\n",
    "df_label = df.copy()\n",
    "df_label = label_encoder(df_label, ['Sex', 'ChestPainType', 'RestingECG', 'ExerciseAngina', 'ST_Slope', 'Race'])"
   ]
  },
  {
   "cell_type": "code",
   "execution_count": 643,
   "metadata": {},
   "outputs": [
    {
     "data": {
      "text/html": [
       "<div>\n",
       "<style scoped>\n",
       "    .dataframe tbody tr th:only-of-type {\n",
       "        vertical-align: middle;\n",
       "    }\n",
       "\n",
       "    .dataframe tbody tr th {\n",
       "        vertical-align: top;\n",
       "    }\n",
       "\n",
       "    .dataframe thead th {\n",
       "        text-align: right;\n",
       "    }\n",
       "</style>\n",
       "<table border=\"1\" class=\"dataframe\">\n",
       "  <thead>\n",
       "    <tr style=\"text-align: right;\">\n",
       "      <th></th>\n",
       "      <th>Age</th>\n",
       "      <th>Sex</th>\n",
       "      <th>ChestPainType</th>\n",
       "      <th>RestingBP</th>\n",
       "      <th>Cholesterol</th>\n",
       "      <th>FastingBS</th>\n",
       "      <th>RestingECG</th>\n",
       "      <th>MaxHR</th>\n",
       "      <th>ExerciseAngina</th>\n",
       "      <th>Oldpeak</th>\n",
       "      <th>ST_Slope</th>\n",
       "      <th>HeartDisease</th>\n",
       "      <th>Race</th>\n",
       "      <th>Height</th>\n",
       "      <th>Weight</th>\n",
       "    </tr>\n",
       "  </thead>\n",
       "  <tbody>\n",
       "    <tr>\n",
       "      <th>0</th>\n",
       "      <td>40.0</td>\n",
       "      <td>1</td>\n",
       "      <td>1</td>\n",
       "      <td>140.0</td>\n",
       "      <td>289.0</td>\n",
       "      <td>0</td>\n",
       "      <td>1</td>\n",
       "      <td>172.0</td>\n",
       "      <td>0</td>\n",
       "      <td>0.0</td>\n",
       "      <td>2</td>\n",
       "      <td>1</td>\n",
       "      <td>4</td>\n",
       "      <td>180.233238</td>\n",
       "      <td>100.825018</td>\n",
       "    </tr>\n",
       "    <tr>\n",
       "      <th>1</th>\n",
       "      <td>49.0</td>\n",
       "      <td>0</td>\n",
       "      <td>2</td>\n",
       "      <td>160.0</td>\n",
       "      <td>180.0</td>\n",
       "      <td>0</td>\n",
       "      <td>1</td>\n",
       "      <td>156.0</td>\n",
       "      <td>0</td>\n",
       "      <td>1.0</td>\n",
       "      <td>1</td>\n",
       "      <td>0</td>\n",
       "      <td>4</td>\n",
       "      <td>173.975042</td>\n",
       "      <td>63.384922</td>\n",
       "    </tr>\n",
       "  </tbody>\n",
       "</table>\n",
       "</div>"
      ],
      "text/plain": [
       "    Age  Sex  ChestPainType  RestingBP  Cholesterol  FastingBS  RestingECG  \\\n",
       "0  40.0    1              1      140.0        289.0          0           1   \n",
       "1  49.0    0              2      160.0        180.0          0           1   \n",
       "\n",
       "   MaxHR  ExerciseAngina  Oldpeak  ST_Slope  HeartDisease  Race      Height  \\\n",
       "0  172.0               0      0.0         2             1     4  180.233238   \n",
       "1  156.0               0      1.0         1             0     4  173.975042   \n",
       "\n",
       "       Weight  \n",
       "0  100.825018  \n",
       "1   63.384922  "
      ]
     },
     "execution_count": 643,
     "metadata": {},
     "output_type": "execute_result"
    }
   ],
   "source": [
    "df_label.head(2)"
   ]
  },
  {
   "cell_type": "markdown",
   "metadata": {},
   "source": [
    "<span style=\"font-family: Georgia, serif; font-weight: 100; letter-spacing: 0.8px;\">\n",
    "\n",
    "### OneHotEncoder\n",
    "</span>"
   ]
  },
  {
   "cell_type": "code",
   "execution_count": 644,
   "metadata": {},
   "outputs": [],
   "source": [
    "def onehot_encoder(df, columns):\n",
    "    encoder = OneHotEncoder(sparse_output=False, drop='first') \n",
    "    encoded_df = pd.DataFrame(encoder.fit_transform(df[columns]), columns=encoder.get_feature_names_out(columns))\n",
    "    df.drop(columns, axis=1, inplace=True)\n",
    "    df = pd.concat([df, encoded_df], axis=1)\n",
    "    return df\n",
    "\n",
    "df_hot = df.copy()\n",
    "df_hot = onehot_encoder(df_hot, ['Sex', 'ChestPainType', 'RestingECG', 'ExerciseAngina', 'ST_Slope', 'Race'])"
   ]
  },
  {
   "cell_type": "code",
   "execution_count": 645,
   "metadata": {},
   "outputs": [
    {
     "data": {
      "text/html": [
       "<div>\n",
       "<style scoped>\n",
       "    .dataframe tbody tr th:only-of-type {\n",
       "        vertical-align: middle;\n",
       "    }\n",
       "\n",
       "    .dataframe tbody tr th {\n",
       "        vertical-align: top;\n",
       "    }\n",
       "\n",
       "    .dataframe thead th {\n",
       "        text-align: right;\n",
       "    }\n",
       "</style>\n",
       "<table border=\"1\" class=\"dataframe\">\n",
       "  <thead>\n",
       "    <tr style=\"text-align: right;\">\n",
       "      <th></th>\n",
       "      <th>Age</th>\n",
       "      <th>RestingBP</th>\n",
       "      <th>Cholesterol</th>\n",
       "      <th>FastingBS</th>\n",
       "      <th>MaxHR</th>\n",
       "      <th>Oldpeak</th>\n",
       "      <th>HeartDisease</th>\n",
       "      <th>Height</th>\n",
       "      <th>Weight</th>\n",
       "      <th>Sex_M</th>\n",
       "      <th>...</th>\n",
       "      <th>ChestPainType_TA</th>\n",
       "      <th>RestingECG_Normal</th>\n",
       "      <th>RestingECG_ST</th>\n",
       "      <th>ExerciseAngina_Y</th>\n",
       "      <th>ST_Slope_Flat</th>\n",
       "      <th>ST_Slope_Up</th>\n",
       "      <th>Race_Black</th>\n",
       "      <th>Race_Hispanic</th>\n",
       "      <th>Race_Other</th>\n",
       "      <th>Race_White</th>\n",
       "    </tr>\n",
       "  </thead>\n",
       "  <tbody>\n",
       "    <tr>\n",
       "      <th>0</th>\n",
       "      <td>40.0</td>\n",
       "      <td>140.0</td>\n",
       "      <td>289.0</td>\n",
       "      <td>0</td>\n",
       "      <td>172.0</td>\n",
       "      <td>0.0</td>\n",
       "      <td>1</td>\n",
       "      <td>180.233238</td>\n",
       "      <td>100.825018</td>\n",
       "      <td>1.0</td>\n",
       "      <td>...</td>\n",
       "      <td>0.0</td>\n",
       "      <td>1.0</td>\n",
       "      <td>0.0</td>\n",
       "      <td>0.0</td>\n",
       "      <td>0.0</td>\n",
       "      <td>1.0</td>\n",
       "      <td>0.0</td>\n",
       "      <td>0.0</td>\n",
       "      <td>0.0</td>\n",
       "      <td>1.0</td>\n",
       "    </tr>\n",
       "    <tr>\n",
       "      <th>1</th>\n",
       "      <td>49.0</td>\n",
       "      <td>160.0</td>\n",
       "      <td>180.0</td>\n",
       "      <td>0</td>\n",
       "      <td>156.0</td>\n",
       "      <td>1.0</td>\n",
       "      <td>0</td>\n",
       "      <td>173.975042</td>\n",
       "      <td>63.384922</td>\n",
       "      <td>0.0</td>\n",
       "      <td>...</td>\n",
       "      <td>0.0</td>\n",
       "      <td>1.0</td>\n",
       "      <td>0.0</td>\n",
       "      <td>0.0</td>\n",
       "      <td>1.0</td>\n",
       "      <td>0.0</td>\n",
       "      <td>0.0</td>\n",
       "      <td>0.0</td>\n",
       "      <td>0.0</td>\n",
       "      <td>1.0</td>\n",
       "    </tr>\n",
       "  </tbody>\n",
       "</table>\n",
       "<p>2 rows × 22 columns</p>\n",
       "</div>"
      ],
      "text/plain": [
       "    Age  RestingBP  Cholesterol  FastingBS  MaxHR  Oldpeak  HeartDisease  \\\n",
       "0  40.0      140.0        289.0          0  172.0      0.0             1   \n",
       "1  49.0      160.0        180.0          0  156.0      1.0             0   \n",
       "\n",
       "       Height      Weight  Sex_M  ...  ChestPainType_TA  RestingECG_Normal  \\\n",
       "0  180.233238  100.825018    1.0  ...               0.0                1.0   \n",
       "1  173.975042   63.384922    0.0  ...               0.0                1.0   \n",
       "\n",
       "   RestingECG_ST  ExerciseAngina_Y  ST_Slope_Flat  ST_Slope_Up  Race_Black  \\\n",
       "0            0.0               0.0            0.0          1.0         0.0   \n",
       "1            0.0               0.0            1.0          0.0         0.0   \n",
       "\n",
       "   Race_Hispanic  Race_Other  Race_White  \n",
       "0            0.0         0.0         1.0  \n",
       "1            0.0         0.0         1.0  \n",
       "\n",
       "[2 rows x 22 columns]"
      ]
     },
     "execution_count": 645,
     "metadata": {},
     "output_type": "execute_result"
    }
   ],
   "source": [
    "df_hot.head(2)"
   ]
  },
  {
   "cell_type": "markdown",
   "metadata": {},
   "source": [
    "<span style=\"font-family: Georgia, serif; font-weight: 100; letter-spacing: 0.8px;\">\n",
    "\n",
    "## Separation of attributes\n",
    "</span>"
   ]
  },
  {
   "cell_type": "code",
   "execution_count": 646,
   "metadata": {},
   "outputs": [],
   "source": [
    "predictors = df2.drop(columns=['HeartDisease']).values\n",
    "target = df2['HeartDisease'].values"
   ]
  },
  {
   "cell_type": "code",
   "execution_count": 647,
   "metadata": {},
   "outputs": [],
   "source": [
    "predictors_label = df_label.drop(columns=['HeartDisease']).values"
   ]
  },
  {
   "cell_type": "code",
   "execution_count": 648,
   "metadata": {},
   "outputs": [],
   "source": [
    "predictors_hot = df_hot.drop(columns=['HeartDisease']).values"
   ]
  },
  {
   "cell_type": "code",
   "execution_count": 649,
   "metadata": {},
   "outputs": [
    {
     "data": {
      "text/plain": [
       "array([[ 40.        ,   1.        ,   1.        , ...,   4.        ,\n",
       "        180.23323783, 100.82501836],\n",
       "       [ 49.        ,   0.        ,   2.        , ...,   4.        ,\n",
       "        173.97504219,  63.38492174],\n",
       "       [ 37.        ,   1.        ,   1.        , ...,   2.        ,\n",
       "        171.90490114,  83.02777765],\n",
       "       ...,\n",
       "       [ 45.63477593,   0.        ,   2.        , ...,   4.        ,\n",
       "        172.18791988, 101.65311221],\n",
       "       [ 69.09697007,   1.        ,   2.        , ...,   1.        ,\n",
       "        166.57696146,  58.82176318],\n",
       "       [ 73.10344263,   0.        ,   0.        , ...,   4.        ,\n",
       "        166.71048127,  60.77257129]])"
      ]
     },
     "execution_count": 649,
     "metadata": {},
     "output_type": "execute_result"
    }
   ],
   "source": [
    "predictors_label"
   ]
  },
  {
   "cell_type": "code",
   "execution_count": 650,
   "metadata": {},
   "outputs": [
    {
     "data": {
      "text/plain": [
       "array([[ 40.        , 140.        , 289.        , ...,   0.        ,\n",
       "          0.        ,   1.        ],\n",
       "       [ 49.        , 160.        , 180.        , ...,   0.        ,\n",
       "          0.        ,   1.        ],\n",
       "       [ 37.        , 130.        , 283.        , ...,   1.        ,\n",
       "          0.        ,   0.        ],\n",
       "       ...,\n",
       "       [ 45.63477593, 109.32257062, 185.26983988, ...,   0.        ,\n",
       "          0.        ,   1.        ],\n",
       "       [ 69.09697007, 134.9071995 , 238.96808547, ...,   0.        ,\n",
       "          0.        ,   0.        ],\n",
       "       [ 73.10344263, 130.03801168, 100.        , ...,   0.        ,\n",
       "          0.        ,   1.        ]])"
      ]
     },
     "execution_count": 650,
     "metadata": {},
     "output_type": "execute_result"
    }
   ],
   "source": [
    "predictors_hot"
   ]
  },
  {
   "cell_type": "code",
   "execution_count": 651,
   "metadata": {},
   "outputs": [
    {
     "data": {
      "text/plain": [
       "array([[ 40.        ,   0.        ,   1.        , ...,   0.        ,\n",
       "        180.23323783, 100.82501836],\n",
       "       [ 49.        ,   1.        ,   2.        , ...,   0.        ,\n",
       "        173.97504219,  63.38492174],\n",
       "       [ 37.        ,   0.        ,   1.        , ...,   1.        ,\n",
       "        171.90490114,  83.02777765],\n",
       "       ...,\n",
       "       [ 45.63477593,   1.        ,   2.        , ...,   0.        ,\n",
       "        172.18791988, 101.65311221],\n",
       "       [ 69.09697007,   0.        ,   2.        , ...,   2.        ,\n",
       "        166.57696146,  58.82176318],\n",
       "       [ 73.10344263,   1.        ,   3.        , ...,   0.        ,\n",
       "        166.71048127,  60.77257129]])"
      ]
     },
     "execution_count": 651,
     "metadata": {},
     "output_type": "execute_result"
    }
   ],
   "source": [
    "predictors"
   ]
  },
  {
   "cell_type": "code",
   "execution_count": 652,
   "metadata": {},
   "outputs": [
    {
     "data": {
      "text/plain": [
       "array([1, 0, 1, ..., 0, 1, 1], dtype=int64)"
      ]
     },
     "execution_count": 652,
     "metadata": {},
     "output_type": "execute_result"
    }
   ],
   "source": [
    "target"
   ]
  },
  {
   "cell_type": "markdown",
   "metadata": {},
   "source": [
    "<span style=\"font-family: Georgia, serif; font-weight: 100; letter-spacing: 0.8px;\">\n",
    "\n",
    "## Scaling\n",
    "</span>"
   ]
  },
  {
   "cell_type": "code",
   "execution_count": 653,
   "metadata": {},
   "outputs": [],
   "source": [
    "continuous = ['RestingBP', 'Cholesterol', 'MaxHR', 'Oldpeak', 'Height', 'Weight']\n",
    "continuous_indices = [3, 4, 7, 9, 13, 14]"
   ]
  },
  {
   "cell_type": "markdown",
   "metadata": {},
   "source": [
    "<span style=\"font-family: Georgia, serif; font-weight: 100; letter-spacing: 0.8px;\">\n",
    "\n",
    "### MinMax\n",
    "</span>"
   ]
  },
  {
   "cell_type": "code",
   "execution_count": 654,
   "metadata": {},
   "outputs": [],
   "source": [
    "def minmax_scaler(df, columns):\n",
    "    scaler = MinMaxScaler()\n",
    "    df[columns] = scaler.fit_transform(df[columns])\n",
    "    return df"
   ]
  },
  {
   "cell_type": "code",
   "execution_count": 655,
   "metadata": {},
   "outputs": [],
   "source": [
    "predictors_mm = minmax_scaler(predictors, continuous_indices)"
   ]
  },
  {
   "cell_type": "code",
   "execution_count": 656,
   "metadata": {},
   "outputs": [
    {
     "data": {
      "text/plain": [
       "array([[ 40.        ,   0.        ,   1.        , ...,   0.        ,\n",
       "        180.23323783, 100.82501836],\n",
       "       [ 49.        ,   1.        ,   2.        , ...,   0.        ,\n",
       "        173.97504219,  63.38492174],\n",
       "       [ 37.        ,   0.        ,   1.        , ...,   1.        ,\n",
       "        171.90490114,  83.02777765],\n",
       "       ...,\n",
       "       [ 45.63477593,   1.        ,   2.        , ...,   0.        ,\n",
       "        172.18791988, 101.65311221],\n",
       "       [ 69.09697007,   0.        ,   2.        , ...,   2.        ,\n",
       "        166.57696146,  58.82176318],\n",
       "       [ 73.10344263,   1.        ,   3.        , ...,   0.        ,\n",
       "        166.71048127,  60.77257129]])"
      ]
     },
     "execution_count": 656,
     "metadata": {},
     "output_type": "execute_result"
    }
   ],
   "source": [
    "predictors_mm"
   ]
  },
  {
   "cell_type": "code",
   "execution_count": 657,
   "metadata": {},
   "outputs": [],
   "source": [
    "predictors_mm_label = minmax_scaler(predictors_label, continuous_indices)"
   ]
  },
  {
   "cell_type": "code",
   "execution_count": 658,
   "metadata": {},
   "outputs": [],
   "source": [
    "predictors_mm_hot = minmax_scaler(predictors_hot, continuous_indices)"
   ]
  },
  {
   "cell_type": "markdown",
   "metadata": {},
   "source": [
    "<span style=\"font-family: Georgia, serif; font-weight: 100; letter-spacing: 0.8px;\">\n",
    "\n",
    "### Normalizer\n",
    "</span>"
   ]
  },
  {
   "cell_type": "code",
   "execution_count": 659,
   "metadata": {},
   "outputs": [],
   "source": [
    "def normalizer(df, columns):\n",
    "    normalizer = Normalizer()\n",
    "    df[columns] = normalizer.fit_transform(df[columns])\n",
    "    return df"
   ]
  },
  {
   "cell_type": "code",
   "execution_count": 660,
   "metadata": {},
   "outputs": [],
   "source": [
    "predictors_nor = normalizer(predictors, continuous_indices)"
   ]
  },
  {
   "cell_type": "code",
   "execution_count": 661,
   "metadata": {},
   "outputs": [],
   "source": [
    "predictors_nor_label = normalizer(predictors_label, continuous_indices)"
   ]
  },
  {
   "cell_type": "code",
   "execution_count": 662,
   "metadata": {},
   "outputs": [],
   "source": [
    "predictors_nor_hot = normalizer(predictors_hot, continuous_indices)"
   ]
  },
  {
   "cell_type": "code",
   "execution_count": 663,
   "metadata": {},
   "outputs": [
    {
     "data": {
      "text/plain": [
       "array([[ 40.        , 140.        , 289.        , ...,   0.        ,\n",
       "          0.        ,   1.        ],\n",
       "       [ 49.        , 160.        , 180.        , ...,   0.        ,\n",
       "          0.        ,   1.        ],\n",
       "       [ 37.        , 130.        , 283.        , ...,   1.        ,\n",
       "          0.        ,   0.        ],\n",
       "       ...,\n",
       "       [ 45.63477593, 109.32257062, 185.26983988, ...,   0.        ,\n",
       "          0.        ,   1.        ],\n",
       "       [ 69.09697007, 134.9071995 , 238.96808547, ...,   0.        ,\n",
       "          0.        ,   0.        ],\n",
       "       [ 73.10344263, 130.03801168, 100.        , ...,   0.        ,\n",
       "          0.        ,   1.        ]])"
      ]
     },
     "execution_count": 663,
     "metadata": {},
     "output_type": "execute_result"
    }
   ],
   "source": [
    "predictors_nor_hot"
   ]
  },
  {
   "cell_type": "markdown",
   "metadata": {},
   "source": [
    "<span style=\"font-family: Georgia, serif; font-weight: 100; letter-spacing: 0.8px;\">\n",
    "\n",
    "### Standard Scaler\n",
    "</span>"
   ]
  },
  {
   "cell_type": "code",
   "execution_count": 664,
   "metadata": {},
   "outputs": [],
   "source": [
    "def standard_scaler(df, columns):\n",
    "    scaler = StandardScaler()\n",
    "    df[columns] = scaler.fit_transform(df[columns])\n",
    "    return df"
   ]
  },
  {
   "cell_type": "code",
   "execution_count": 665,
   "metadata": {},
   "outputs": [],
   "source": [
    "predictors_scal = standard_scaler(predictors, continuous_indices)"
   ]
  },
  {
   "cell_type": "code",
   "execution_count": 666,
   "metadata": {},
   "outputs": [],
   "source": [
    "predictors_scal_label = standard_scaler(predictors_label, continuous_indices)"
   ]
  },
  {
   "cell_type": "code",
   "execution_count": 667,
   "metadata": {},
   "outputs": [],
   "source": [
    "predictors_scal_hot = standard_scaler(predictors_hot, continuous_indices)"
   ]
  }
 ],
 "metadata": {
  "kernelspec": {
   "display_name": "venv",
   "language": "python",
   "name": "python3"
  },
  "language_info": {
   "codemirror_mode": {
    "name": "ipython",
    "version": 3
   },
   "file_extension": ".py",
   "mimetype": "text/x-python",
   "name": "python",
   "nbconvert_exporter": "python",
   "pygments_lexer": "ipython3",
   "version": "3.11.5"
  }
 },
 "nbformat": 4,
 "nbformat_minor": 2
}
